{
 "cells": [
  {
   "cell_type": "code",
   "execution_count": 1,
   "id": "5d67c38b",
   "metadata": {
    "colab": {
     "base_uri": "https://localhost:8080/"
    },
    "id": "5d67c38b",
    "outputId": "d6550f20-8b57-4eea-b6ae-be564f5499be"
   },
   "outputs": [
    {
     "name": "stdout",
     "output_type": "stream",
     "text": [
      "Tensorflow version: 2.14.0 \n",
      "\n"
     ]
    }
   ],
   "source": [
    "\n",
    "# We will use this cell to import all the packages you will need in the following - think of it as turning on all your systems\n",
    "# in your cockpit\n",
    "\n",
    "# This makes sure that if you change code in your external scripts, they will be updated\n",
    "\n",
    "\n",
    "#import checker\n",
    "#import generator\n",
    "\n",
    "from IPython.display import display, clear_output\n",
    "import numpy as np\n",
    "import time\n",
    "import math\n",
    "import matplotlib.pyplot as plt\n",
    "import seaborn as sn\n",
    "import pandas as pd\n",
    "\n",
    "#import importlib\n",
    "#importlib.reload(checker)\n",
    "#importlib.reload(generator)\n",
    "\n",
    "# now go ahead and Run the cell. This might take a while...\n",
    "# while the cell is running, you will see ln[*] next to it. Once it finished, you will see the number of execution\n",
    "# In case you want to interrupt the run of a cell, press Ctrl + C (on your german keyboard, this is Strg + C)\n",
    "\n",
    "# pip install tensorflow\n",
    "\n",
    "# There is this joke that once you have added this import line to your code,\n",
    "# you are allowed to sell your product telling everyone that you are using AI. Life is easy, sometimes.\n",
    "\n",
    "import tensorflow as tf\n",
    "print('Tensorflow version:', tf.__version__, '\\n')\n",
    "\n",
    "# Keras is a model-level library, meaning that it is built upon tensorflow (using it as a backend) - allowing for\n",
    "# high-level building blocks. Making it even easier to design neural networks.\n",
    "# We will access it as tf.keras\n",
    "\n",
    "# The tf and k abbreviations are best practice (same for numpy np and pandas pd),\n",
    "# since you do not want to type T E N S O R F L O W all over your code.\n",
    "# They are prevalent all over the industry and academia in a way that you'll risk a fight if you import them differently.\n",
    "\n"
   ]
  },
  {
   "cell_type": "code",
   "execution_count": 14,
   "id": "wuANFTMqHS-r",
   "metadata": {
    "id": "wuANFTMqHS-r"
   },
   "outputs": [
    {
     "name": "stdout",
     "output_type": "stream",
     "text": [
      "x_train: (60000, 28, 28)\n",
      "y_train: (60000,)\n",
      "x_test: (10000, 28, 28)\n",
      "y_test: (10000,)\n"
     ]
    }
   ],
   "source": [
    "# Loading the MNIST dataset in one line\n",
    "(x_train, y_train), (x_test, y_test) = tf.keras.datasets.mnist.load_data()\n",
    "\n",
    "# Printing the shape\n",
    "print('x_train:', x_train.shape)\n",
    "print('y_train:', y_train.shape)\n",
    "print('x_test:', x_test.shape)\n",
    "print('y_test:', y_test.shape)\n",
    "\n",
    "x_train_normalized = x_train/255\n",
    "x_test_normalized = x_test/255\n",
    "\n",
    "# in the next step, we also need to reshape our input to fit our input layer later on.\n",
    "# This is due to keras expecting a definition for how many channels your input sample has, as we\n",
    "# deal with gray scale this is 1.\n",
    "x_train= x_train_normalized.reshape(-1, 28, 28, 1)\n",
    "x_test = x_test_normalized.reshape(-1, 28, 28, 1)"
   ]
  },
  {
   "cell_type": "code",
   "execution_count": 33,
   "id": "1556a3b2-fd39-427d-b568-21f38ea039be",
   "metadata": {},
   "outputs": [
    {
     "name": "stdout",
     "output_type": "stream",
     "text": [
      "[0 4 9 ... 9 9 6]\n"
     ]
    }
   ],
   "source": [
    "train_filter = np.isin(y_train, [0, 4,9, 6])\n",
    "x_train_f, y_train_f = x_train[train_filter], y_train[train_filter]\n",
    "\n",
    "print(y_train_f)"
   ]
  },
  {
   "cell_type": "code",
   "execution_count": null,
   "id": "9ea32012",
   "metadata": {
    "execution": {
     "iopub.execute_input": "2023-11-07T16:23:29.787681Z",
     "iopub.status.busy": "2023-11-07T16:23:29.787309Z",
     "iopub.status.idle": "2023-11-07T16:23:30.182560Z",
     "shell.execute_reply": "2023-11-07T16:23:30.181839Z",
     "shell.execute_reply.started": "2023-11-07T16:23:29.787652Z"
    },
    "id": "9ea32012",
    "outputId": "eb53c118-de72-4676-dfae-5b6bbd76b7ea"
   },
   "outputs": [
    {
     "name": "stdout",
     "output_type": "stream",
     "text": [
      "Model: \"sequential_71\"\n",
      "_________________________________________________________________\n",
      " Layer (type)                Output Shape              Param #   \n",
      "=================================================================\n",
      " random_rotation_66 (RandomR  (None, 28, 28, 1)        0         \n",
      " otation)                                                        \n",
      "                                                                 \n",
      " random_zoom_61 (RandomZoom)  (None, 28, 28, 1)        0         \n",
      "                                                                 \n",
      " conv2d_202 (Conv2D)         (None, 28, 28, 28)        728       \n",
      "                                                                 \n",
      " conv2d_203 (Conv2D)         (None, 28, 28, 28)        19600     \n",
      "                                                                 \n",
      " batch_normalization_205 (Ba  (None, 28, 28, 28)       112       \n",
      " tchNormalization)                                               \n",
      "                                                                 \n",
      " activation_58 (Activation)  (None, 28, 28, 28)        0         \n",
      "                                                                 \n",
      " max_pooling2d_150 (MaxPooli  (None, 14, 14, 28)       0         \n",
      " ng2D)                                                           \n",
      "                                                                 \n",
      " dropout_284 (Dropout)       (None, 14, 14, 28)        0         \n",
      "                                                                 \n",
      " conv2d_204 (Conv2D)         (None, 14, 14, 28)        19628     \n",
      "                                                                 \n",
      " conv2d_205 (Conv2D)         (None, 14, 14, 28)        19600     \n",
      "                                                                 \n",
      " batch_normalization_206 (Ba  (None, 14, 14, 28)       112       \n",
      " tchNormalization)                                               \n",
      "                                                                 \n",
      " activation_59 (Activation)  (None, 14, 14, 28)        0         \n",
      "                                                                 \n",
      " max_pooling2d_151 (MaxPooli  (None, 7, 7, 28)         0         \n",
      " ng2D)                                                           \n",
      "                                                                 \n",
      " dropout_285 (Dropout)       (None, 7, 7, 28)          0         \n",
      "                                                                 \n",
      " flatten_71 (Flatten)        (None, 1372)              0         \n",
      "                                                                 \n",
      " dense_172 (Dense)           (None, 82)                112586    \n",
      "                                                                 \n",
      " batch_normalization_207 (Ba  (None, 82)               328       \n",
      " tchNormalization)                                               \n",
      "                                                                 \n",
      " dropout_286 (Dropout)       (None, 82)                0         \n",
      "                                                                 \n",
      " gaussian_noise_88 (Gaussian  (None, 82)               0         \n",
      " Noise)                                                          \n",
      "                                                                 \n",
      " dense_173 (Dense)           (None, 54)                4482      \n",
      "                                                                 \n",
      " batch_normalization_208 (Ba  (None, 54)               216       \n",
      " tchNormalization)                                               \n",
      "                                                                 \n",
      " dropout_287 (Dropout)       (None, 54)                0         \n",
      "                                                                 \n",
      " gaussian_noise_89 (Gaussian  (None, 54)               0         \n",
      " Noise)                                                          \n",
      "                                                                 \n",
      " dense_174 (Dense)           (None, 10)                540       \n",
      "                                                                 \n",
      "=================================================================\n",
      "Total params: 177,932\n",
      "Trainable params: 177,548\n",
      "Non-trainable params: 384\n",
      "_________________________________________________________________\n"
     ]
    }
   ],
   "source": [
    "# This is the moment where you define your model's architecture\n",
    "\n",
    "pepsi = tf.keras.models.Sequential([\n",
    "    tf.keras.layers.InputLayer(input_shape=(28,28,1)),\n",
    "    tf.keras.layers.RandomRotation(0.04),\n",
    "    tf.keras.layers.RandomZoom(0.02),\n",
    "\n",
    "    tf.keras.layers.Conv2D(filters=28, kernel_size=5, padding='same', activation='relu', kernel_regularizer=tf.keras.regularizers.l2(0.005)),\n",
    "    tf.keras.layers.Conv2D(filters=28, kernel_size=5, padding='same', activation='relu', use_bias=False),\n",
    "    tf.keras.layers.BatchNormalization(),\n",
    "\n",
    "    tf.keras.layers.Activation('relu'),\n",
    "    tf.keras.layers.MaxPooling2D(2,2),\n",
    "    tf.keras.layers.Dropout(0.4),\n",
    "\n",
    "    tf.keras.layers.Conv2D(filters=28, kernel_size=5, padding='same', activation='relu', kernel_initializer=tf.keras.initializers.HeNormal()),\n",
    "    tf.keras.layers.Conv2D(filters=28, kernel_size=5, padding='same', activation='relu', use_bias=False),\n",
    "    tf.keras.layers.BatchNormalization(),\n",
    "\n",
    "    tf.keras.layers.Activation('relu'),\n",
    "    tf.keras.layers.MaxPooling2D(2,2),\n",
    "    tf.keras.layers.Dropout(0.4),\n",
    "\n",
    "    tf.keras.layers.Flatten(),\n",
    "\n",
    "    tf.keras.layers.Dense(82, kernel_regularizer = tf.keras.regularizers.l2(0.005), activation = 'relu'),\n",
    "    tf.keras.layers.BatchNormalization(),\n",
    "\n",
    "    tf.keras.layers.Dropout(0.2),\n",
    "    tf.keras.layers.GaussianNoise(0.75),\n",
    "\n",
    "    tf.keras.layers.Dense(54, kernel_regularizer = tf.keras.regularizers.l2(0.005), activation = 'sigmoid'),\n",
    "    tf.keras.layers.BatchNormalization(),\n",
    "\n",
    "    tf.keras.layers.Dropout(0.2),\n",
    "    tf.keras.layers.GaussianNoise(0.75),\n",
    "    tf.keras.layers.Dense(10, activation='softmax', use_bias=False)\n",
    "   ])\n",
    "\n",
    "pepsi.summary()\n",
    "\n",
    "# Define your loss\n",
    "loss_fn = tf.keras.losses.SparseCategoricalCrossentropy(from_logits=True)\n",
    "# print(-tf.math.log(1/10))\n",
    "\n",
    "sampleID = 100\n",
    "loss_fn(y_train[:1], pepsi(x_train[sampleID-1:sampleID]).numpy()).numpy()\n",
    "\n",
    "# Compiling basically means to prepare the training routine for your model which consists of the optimizer,\n",
    "# the loss, and the metrics which are to be reported during training\n",
    "\n",
    "pepsi.compile(optimizer=tf.keras.optimizers.Adam(learning_rate=0.001),\n",
    "              loss= loss_fn,\n",
    "              metrics=['accuracy'])"
   ]
  },
  {
   "cell_type": "code",
   "execution_count": null,
   "id": "466ba601",
   "metadata": {
    "execution": {
     "iopub.status.busy": "2023-11-07T13:55:45.920262Z",
     "iopub.status.idle": "2023-11-07T13:55:45.920605Z",
     "shell.execute_reply": "2023-11-07T13:55:45.920449Z",
     "shell.execute_reply.started": "2023-11-07T13:55:45.920433Z"
    },
    "id": "466ba601"
   },
   "outputs": [],
   "source": [
    "import datetime\n",
    "import os\n",
    "\n",
    "%load_ext tensorboard\n",
    "logdir = os.path.join(\"logs\", datetime.datetime.now().strftime(\"%Y%m%d-%H%M%S\"))\n",
    "tensorboard_callback = tf.keras.callbacks.TensorBoard(logdir, histogram_freq=1)\n"
   ]
  },
  {
   "cell_type": "code",
   "execution_count": 59,
   "id": "38d5e60e",
   "metadata": {
    "id": "38d5e60e",
    "outputId": "12101bbf-7efd-4446-e4f3-ae49a6255bdd"
   },
   "outputs": [
    {
     "name": "stdout",
     "output_type": "stream",
     "text": [
      "274/274 [==============================] - 264s 957ms/step - loss: 0.0937 - accuracy: 0.9853 - val_loss: 0.0810 - val_accuracy: 0.9897\n",
      "313/313 [==============================] - 12s 38ms/step - loss: 0.0810 - accuracy: 0.9897\n",
      "Loss:  0.0809696689248085\n",
      "Accuracy:  0.9897000193595886\n"
     ]
    }
   ],
   "source": [
    "vlr = tf.keras.callbacks.ReduceLROnPlateau(monitor='val_loss', factor = 0.2, patience = 2)\n",
    "\n",
    "checkpoint_filepath = 'tmp/model.{epoch:02d}-{val_accuracy:.4f}.h5'\n",
    "model_checkpoint = tf.keras.callbacks.ModelCheckpoint(\n",
    "    filepath=checkpoint_filepath,\n",
    "    monitor='val_accuracy',\n",
    "    mode='max',\n",
    "    save_best_only=True,\n",
    "    save_freq= 'epoch'\n",
    ")\n",
    "\n",
    "history = pepsi.fit(\n",
    "    np.concatenate((x_train, x_train_f[0:10000])),\n",
    "    np.concatenate((y_train, y_train_f[0:10000])),\n",
    "    epochs=1,\n",
    "    batch_size=256,\n",
    "\n",
    "    validation_data=(x_test, y_test),\n",
    "    # callbacks=[model_checkpoint]\n",
    ")\n",
    "(test_loss, test_acc) = pepsi.evaluate(x_test, y_test)\n",
    "print(\"Loss: \", test_loss)\n",
    "print(\"Accuracy: \", test_acc)"
   ]
  },
  {
   "cell_type": "code",
   "execution_count": null,
   "id": "b70c8f36",
   "metadata": {
    "execution": {
     "iopub.status.busy": "2023-11-07T13:55:45.923470Z",
     "iopub.status.idle": "2023-11-07T13:55:45.923825Z",
     "shell.execute_reply": "2023-11-07T13:55:45.923659Z",
     "shell.execute_reply.started": "2023-11-07T13:55:45.923643Z"
    },
    "id": "b70c8f36"
   },
   "outputs": [],
   "source": [
    "# This line would start up tensorboard for you\n",
    "%tensorboard --logdir logs --host localhost"
   ]
  },
  {
   "cell_type": "code",
   "execution_count": null,
   "id": "f603da03",
   "metadata": {
    "execution": {
     "iopub.status.busy": "2023-11-07T13:55:45.924892Z",
     "iopub.status.idle": "2023-11-07T13:55:45.925202Z",
     "shell.execute_reply": "2023-11-07T13:55:45.925061Z",
     "shell.execute_reply.started": "2023-11-07T13:55:45.925047Z"
    },
    "id": "f603da03"
   },
   "outputs": [],
   "source": [
    "# after the training finishes, we will also save Marvin in Keras style (HDF5), so we do not have to\n",
    "# train him again\n",
    "# every time we start our computer. Obviously, by changing the model_name, you can also save different\n",
    "# configurations of Marvin. The name has to be a string, like this: 'name.h5'\n",
    "model_name = 'pepsi_V03e_99.6'\n",
    "pepsi.save(model_name, save_format='h5')\n",
    "\n",
    "# It is best practice to indicate what configuration changes you did within the name, so you know\n",
    "# which model you need to load already from its name\n",
    "# Let's say instead of a learning rate of 0.001 you used 0.1, your naming could then look like:\n",
    "# 'marvin_lr01.h5'\n",
    "\n",
    "print('Success! You saved Marvin as: ', model_name)"
   ]
  },
  {
   "cell_type": "code",
   "execution_count": null,
   "id": "bfe73e76",
   "metadata": {
    "execution": {
     "iopub.status.busy": "2023-11-07T13:55:45.926253Z",
     "iopub.status.idle": "2023-11-07T13:55:45.926586Z",
     "shell.execute_reply": "2023-11-07T13:55:45.926431Z",
     "shell.execute_reply.started": "2023-11-07T13:55:45.926416Z"
    },
    "id": "bfe73e76"
   },
   "outputs": [],
   "source": [
    "# Plot for the intuitive approach\n",
    "\n",
    "numbers_to_display = 196\n",
    "num_cells = math.ceil(math.sqrt(numbers_to_display))\n",
    "plt.figure(figsize=(15, 15))\n",
    "\n",
    "for plot_index in range(numbers_to_display):\n",
    "    predicted_label = predictions[plot_index]\n",
    "    plt.xticks([])\n",
    "    plt.yticks([])\n",
    "    plt.grid(False)\n",
    "    color_map = 'Greens' if predicted_label == y_test[plot_index] else 'Reds'\n",
    "    plt.subplot(num_cells, num_cells, plot_index + 1)\n",
    "    plt.imshow(x_test_normalized[plot_index].reshape((28, 28)), cmap=color_map)\n",
    "    plt.xlabel(predicted_label)\n",
    "\n",
    "plt.subplots_adjust(hspace=1, wspace=0.5)\n",
    "plt.show()"
   ]
  },
  {
   "cell_type": "code",
   "execution_count": 41,
   "id": "237d39a6",
   "metadata": {
    "id": "237d39a6",
    "outputId": "039a38b5-6eb2-437e-fac5-b80e4cd2b446"
   },
   "outputs": [
    {
     "name": "stdout",
     "output_type": "stream",
     "text": [
      "313/313 [==============================] - 6s 20ms/step\n"
     ]
    }
   ],
   "source": [
    "# load a saved marvin configuration you want to evaluate\n",
    "model_name = 'model.77-0.9975.h5'\n",
    "pepsi_reloaded = tf.keras.models.load_model(model_name)\n",
    "# pepsi = pepsi_reloaded\n",
    "pepsi_reloaded = pepsi\n",
    "# Let Marvin predict on the test set, so we have some data to evaluate his performance.\n",
    "predictions = pepsi_reloaded.predict([x_test])\n",
    "# predictions = pepsi.predict([x_test])\n",
    "\n",
    "# Remember that the prediction of Marvin is a probability distribution over all ten-digit classes\n",
    "# We want him to assign the digit class with the highest probability to the sample.\n",
    "predictions = np.argmax(predictions, axis=1)\n",
    "#pd.DataFrame(predictions)"
   ]
  },
  {
   "cell_type": "code",
   "execution_count": 39,
   "id": "ef451387",
   "metadata": {
    "id": "ef451387",
    "outputId": "eac04469-3476-49d9-9b9c-2e07af89b7e3"
   },
   "outputs": [
    {
     "name": "stdout",
     "output_type": "stream",
     "text": [
      "313/313 [==============================] - 6s 20ms/step - loss: 0.7054 - accuracy: 0.8636\n",
      "Loss:  0.70540851354599\n",
      "Accuracy:  0.8636000156402588\n"
     ]
    },
    {
     "data": {
      "image/png": "[encoded data removed]",
      "text/plain": [
       "<Figure size 900x700 with 2 Axes>"
      ]
     },
     "metadata": {},
     "output_type": "display_data"
    }
   ],
   "source": [
    "\n",
    "(test_loss, test_acc) = pepsi_reloaded.evaluate(x_test, y_test)\n",
    "print(\"Loss: \", test_loss)\n",
    "print(\"Accuracy: \", test_acc)\n",
    "\n",
    "confusion_matrix = tf.math.confusion_matrix(y_test, predictions)\n",
    "\n",
    "f, ax = plt.subplots(figsize=(9, 7))\n",
    "sn.heatmap(\n",
    "    confusion_matrix,\n",
    "    annot=True,\n",
    "    linewidths=.7,\n",
    "    fmt=\"d\",\n",
    "    square=True,\n",
    "    ax=ax,\n",
    "    cmap=\"viridis\",\n",
    ")\n",
    "plt.show()"
   ]
  }
 ],
 "metadata": {
  "colab": {
   "provenance": []
  },
  "kernelspec": {
   "display_name": "Python 3 (ipykernel)",
   "language": "python",
   "name": "python3"
  },
  "language_info": {
   "codemirror_mode": {
    "name": "ipython",
    "version": 3
   },
   "file_extension": ".py",
   "mimetype": "text/x-python",
   "name": "python",
   "nbconvert_exporter": "python",
   "pygments_lexer": "ipython3",
   "version": "3.11.6"
  }
 },
 "nbformat": 4,
 "nbformat_minor": 5
}
