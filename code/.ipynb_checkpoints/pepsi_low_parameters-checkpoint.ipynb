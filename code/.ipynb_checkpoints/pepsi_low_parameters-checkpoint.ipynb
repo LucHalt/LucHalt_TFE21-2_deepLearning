{
 "cells": [
  {
   "cell_type": "code",
   "execution_count": 17,
   "id": "5d67c38b",
   "metadata": {
    "colab": {
     "base_uri": "https://localhost:8080/"
    },
    "id": "5d67c38b",
    "outputId": "d6550f20-8b57-4eea-b6ae-be564f5499be"
   },
   "outputs": [
    {
     "name": "stdout",
     "output_type": "stream",
     "text": [
      "Requirement already satisfied: scikit-learn in c:\\users\\lucas\\appdata\\local\\programs\\python\\python311\\lib\\site-packages (1.3.2)\n",
      "Requirement already satisfied: numpy<2.0,>=1.17.3 in c:\\users\\lucas\\appdata\\local\\programs\\python\\python311\\lib\\site-packages (from scikit-learn) (1.26.1)\n",
      "Requirement already satisfied: scipy>=1.5.0 in c:\\users\\lucas\\appdata\\local\\programs\\python\\python311\\lib\\site-packages (from scikit-learn) (1.11.3)\n",
      "Requirement already satisfied: joblib>=1.1.1 in c:\\users\\lucas\\appdata\\local\\programs\\python\\python311\\lib\\site-packages (from scikit-learn) (1.3.2)\n",
      "Requirement already satisfied: threadpoolctl>=2.0.0 in c:\\users\\lucas\\appdata\\local\\programs\\python\\python311\\lib\\site-packages (from scikit-learn) (3.2.0)\n",
      "Tensorflow version: 2.14.0 \n",
      "\n"
     ]
    }
   ],
   "source": [
    "\n",
    "# We will use this cell to import all the packages you will need in the following - think of it as turning on all your systems\n",
    "# in your cockpit\n",
    "\n",
    "# This makes sure that if you change code in your external scripts, they will be updated\n",
    "\n",
    "\n",
    "#import checker\n",
    "#import generator\n",
    "\n",
    "from IPython.display import display, clear_output\n",
    "import numpy as np\n",
    "import time\n",
    "import math\n",
    "import matplotlib.pyplot as plt\n",
    "import seaborn as sn\n",
    "import pandas as pd\n",
    "!pip install scikit-learn\n",
    "import sklearn\n",
    "\n",
    "#import importlib\n",
    "#importlib.reload(checker)\n",
    "#importlib.reload(generator)\n",
    "\n",
    "# now go ahead and Run the cell. This might take a while...\n",
    "# while the cell is running, you will see ln[*] next to it. Once it finished, you will see the number of execution\n",
    "# In case you want to interrupt the run of a cell, press Ctrl + C (on your german keyboard, this is Strg + C)\n",
    "\n",
    "# pip install tensorflow\n",
    "\n",
    "# There is this joke that once you have added this import line to your code,\n",
    "# you are allowed to sell your product telling everyone that you are using AI. Life is easy, sometimes.\n",
    "\n",
    "import tensorflow as tf\n",
    "print('Tensorflow version:', tf.__version__, '\\n')\n",
    "\n",
    "# Keras is a model-level library, meaning that it is built upon tensorflow (using it as a backend) - allowing for\n",
    "# high-level building blocks. Making it even easier to design neural networks.\n",
    "# We will access it as tf.keras\n",
    "\n",
    "# The tf and k abbreviations are best practice (same for numpy np and pandas pd),\n",
    "# since you do not want to type T E N S O R F L O W all over your code.\n",
    "# They are prevalent all over the industry and academia in a way that you'll risk a fight if you import them differently.\n",
    "\n"
   ]
  },
  {
   "cell_type": "code",
   "execution_count": 18,
   "id": "wuANFTMqHS-r",
   "metadata": {
    "id": "wuANFTMqHS-r",
    "scrolled": true
   },
   "outputs": [
    {
     "name": "stdout",
     "output_type": "stream",
     "text": [
      "x_train: (20, 28, 28, 1)\n",
      "y_train: (20,)\n",
      "x_test: (10000, 28, 28, 1)\n",
      "y_test: (10000,)\n"
     ]
    }
   ],
   "source": [
    "# Loading the MNIST dataset in one line\n",
    "(x_train, y_train), (x_test, y_test) = tf.keras.datasets.mnist.load_data()\n",
    "\n",
    "x_train = np.array([x_train[1],x_train[249],\n",
    "                    x_train[3],x_train[248],\n",
    "                    x_train[5],x_train[252],\n",
    "                    x_train[7],x_train[254],\n",
    "                    x_train[9],x_train[257],\n",
    "                    x_train[11],x_train[259],\n",
    "                    x_train[13],x_train[256],\n",
    "                    x_train[15],x_train[263],\n",
    "                    x_train[17],x_train[265],\n",
    "                    x_train[19],x_train[264]])\n",
    "y_train = np.array([0,0,1,1,2,2,3,3,4,4,\n",
    "                    5,5,6,6,7,7,8,8,9,9])\n",
    "\n",
    "x_train_normalized = x_train/255\n",
    "x_test_normalized = x_test/255\n",
    "\n",
    "# in the next step, we also need to reshape our input to fit our input layer later on.\n",
    "# This is due to keras expecting a definition for how many channels your input sample has, as we\n",
    "# deal with gray scale this is 1.\n",
    "x_train= x_train_normalized.reshape(-1, 28, 28, 1)\n",
    "x_test = x_test_normalized.reshape(-1, 28, 28, 1)\n",
    "\n",
    "# Printing the shape\n",
    "print('x_train:', x_train.shape)\n",
    "print('y_train:', y_train.shape)\n",
    "print('x_test:', x_test.shape)\n",
    "print('y_test:', y_test.shape)"
   ]
  },
  {
   "cell_type": "code",
   "execution_count": 30,
   "id": "9ea32012",
   "metadata": {
    "id": "9ea32012",
    "outputId": "eb53c118-de72-4676-dfae-5b6bbd76b7ea"
   },
   "outputs": [
    {
     "name": "stdout",
     "output_type": "stream",
     "text": [
      "Model: \"sequential_6\"\n",
      "_________________________________________________________________\n",
      " Layer (type)                Output Shape              Param #   \n",
      "=================================================================\n",
      " random_rotation_6 (RandomR  (None, 28, 28, 1)         0         \n",
      " otation)                                                        \n",
      "                                                                 \n",
      " random_zoom_6 (RandomZoom)  (None, 28, 28, 1)         0         \n",
      "                                                                 \n",
      " conv2d_24 (Conv2D)          (None, 28, 28, 28)        728       \n",
      "                                                                 \n",
      " conv2d_25 (Conv2D)          (None, 28, 28, 28)        19600     \n",
      "                                                                 \n",
      " batch_normalization_24 (Ba  (None, 28, 28, 28)        112       \n",
      " tchNormalization)                                               \n",
      "                                                                 \n",
      " activation_12 (Activation)  (None, 28, 28, 28)        0         \n",
      "                                                                 \n",
      " max_pooling2d_12 (MaxPooli  (None, 14, 14, 28)        0         \n",
      " ng2D)                                                           \n",
      "                                                                 \n",
      " dropout_24 (Dropout)        (None, 14, 14, 28)        0         \n",
      "                                                                 \n",
      " conv2d_26 (Conv2D)          (None, 14, 14, 28)        19628     \n",
      "                                                                 \n",
      " conv2d_27 (Conv2D)          (None, 14, 14, 28)        19600     \n",
      "                                                                 \n",
      " batch_normalization_25 (Ba  (None, 14, 14, 28)        112       \n",
      " tchNormalization)                                               \n",
      "                                                                 \n",
      " activation_13 (Activation)  (None, 14, 14, 28)        0         \n",
      "                                                                 \n",
      " max_pooling2d_13 (MaxPooli  (None, 7, 7, 28)          0         \n",
      " ng2D)                                                           \n",
      "                                                                 \n",
      " dropout_25 (Dropout)        (None, 7, 7, 28)          0         \n",
      "                                                                 \n",
      " flatten_6 (Flatten)         (None, 1372)              0         \n",
      "                                                                 \n",
      " dense_18 (Dense)            (None, 54)                74142     \n",
      "                                                                 \n",
      " batch_normalization_26 (Ba  (None, 54)                216       \n",
      " tchNormalization)                                               \n",
      "                                                                 \n",
      " dropout_26 (Dropout)        (None, 54)                0         \n",
      "                                                                 \n",
      " gaussian_noise_12 (Gaussia  (None, 54)                0         \n",
      " nNoise)                                                         \n",
      "                                                                 \n",
      " dense_19 (Dense)            (None, 10)                540       \n",
      "                                                                 \n",
      "=================================================================\n",
      "Total params: 134678 (526.09 KB)\n",
      "Trainable params: 134458 (525.23 KB)\n",
      "Non-trainable params: 220 (880.00 Byte)\n",
      "_________________________________________________________________\n"
     ]
    }
   ],
   "source": [
    "# This is the moment where you define your model's architecture\n",
    "\n",
    "pepsi = tf.keras.models.Sequential([\n",
    "    tf.keras.layers.InputLayer(input_shape=(28,28,1)),\n",
    "    tf.keras.layers.RandomRotation(1),\n",
    "    tf.keras.layers.RandomZoom(0.05),\n",
    "    \n",
    "    tf.keras.layers.Conv2D(filters=28, kernel_size=5, padding='same', activation='relu', kernel_regularizer=tf.keras.regularizers.l2(0.005)),\n",
    "    tf.keras.layers.Conv2D(filters=28, kernel_size=5, padding='same', activation='relu', use_bias=False),\n",
    "    tf.keras.layers.BatchNormalization(),\n",
    "    \n",
    "    tf.keras.layers.Activation('relu'),\n",
    "    tf.keras.layers.MaxPooling2D(2,2),\n",
    "    tf.keras.layers.Dropout(0.1),\n",
    "    \n",
    "    tf.keras.layers.Conv2D(filters=28, kernel_size=5, padding='same', activation='relu', kernel_initializer=tf.keras.initializers.HeNormal()),\n",
    "    tf.keras.layers.Conv2D(filters=28, kernel_size=5, padding='same', activation='relu', use_bias=False),\n",
    "    tf.keras.layers.BatchNormalization(),\n",
    "\n",
    "    tf.keras.layers.Activation('relu'),\n",
    "    tf.keras.layers.MaxPooling2D(2,2),\n",
    "    tf.keras.layers.Dropout(0.1),\n",
    "    \n",
    "    tf.keras.layers.Flatten(),\n",
    "    \n",
    "    tf.keras.layers.Dense(54, kernel_regularizer = tf.keras.regularizers.l2(0.005), activation = 'sigmoid'),\n",
    "    tf.keras.layers.BatchNormalization(),\n",
    "    \n",
    "    tf.keras.layers.Dropout(0.1),\n",
    "    tf.keras.layers.GaussianNoise(0.75),\n",
    "    tf.keras.layers.Dense(10, activation='softmax', use_bias=False)\n",
    "   ])\n",
    "\n",
    "pepsi.summary()\n",
    "\n",
    "# Define your loss\n",
    "loss_fn = tf.keras.losses.SparseCategoricalCrossentropy(from_logits=True)\n",
    "# print(-tf.math.log(1/10))\n",
    "\n",
    "sampleID = 1\n",
    "loss_fn(y_train[:1], pepsi(x_train[sampleID-1:sampleID]).numpy()).numpy()\n",
    "\n",
    "# Compiling basically means to prepare the training routine for your model which consists of the optimizer,\n",
    "# the loss, and the metrics which are to be reported during training\n",
    "\n",
    "pepsi.compile(optimizer=tf.keras.optimizers.Adam(learning_rate=0.001),\n",
    "              loss= loss_fn,\n",
    "              metrics=['accuracy'])"
   ]
  },
  {
   "cell_type": "code",
   "execution_count": null,
   "id": "466ba601",
   "metadata": {
    "execution": {
     "iopub.status.busy": "2023-11-07T13:55:45.920262Z",
     "iopub.status.idle": "2023-11-07T13:55:45.920605Z",
     "shell.execute_reply": "2023-11-07T13:55:45.920449Z",
     "shell.execute_reply.started": "2023-11-07T13:55:45.920433Z"
    },
    "id": "466ba601"
   },
   "outputs": [],
   "source": [
    "import datetime\n",
    "import os\n",
    "\n",
    "%load_ext tensorboard\n",
    "logdir = os.path.join(\"logs\", datetime.datetime.now().strftime(\"%Y%m%d-%H%M%S\"))\n",
    "tensorboard_callback = tf.keras.callbacks.TensorBoard(logdir, histogram_freq=1)\n"
   ]
  },
  {
   "cell_type": "code",
   "execution_count": null,
   "id": "38d5e60e",
   "metadata": {
    "id": "38d5e60e",
    "outputId": "12101bbf-7efd-4446-e4f3-ae49a6255bdd"
   },
   "outputs": [
    {
     "name": "stdout",
     "output_type": "stream",
     "text": [
      "Epoch 1/20\n",
      "15/20 [=====================>........] - ETA: 0s - loss: 3.0445 - accuracy: 0.1333"
     ]
    }
   ],
   "source": [
    "vlr = tf.keras.callbacks.ReduceLROnPlateau(monitor='val_loss', factor = 0.2, patience = 2)\n",
    "\n",
    "checkpoint_filepath = 'tmp/model.{epoch:02d}-{val_accuracy:.4f}.h5'\n",
    "model_checkpoint = tf.keras.callbacks.ModelCheckpoint(\n",
    "    filepath=checkpoint_filepath,\n",
    "    monitor='val_accuracy',\n",
    "    mode='max',\n",
    "    save_best_only=True,\n",
    "    save_freq= 'epoch'\n",
    ")\n",
    "\n",
    "history = pepsi.fit(\n",
    "    x_train,\n",
    "    y_train,\n",
    "    epochs=20,\n",
    "    batch_size=1,\n",
    "\n",
    "    validation_data=(x_test, y_test),\n",
    "    callbacks=[vlr] #model_checkpoint\n",
    ")\n",
    "(test_loss, test_acc) = pepsi.evaluate(x_test, y_test)\n",
    "print(\"Loss: \", test_loss)\n",
    "print(\"Accuracy: \", test_acc)"
   ]
  },
  {
   "cell_type": "code",
   "execution_count": null,
   "id": "b70c8f36",
   "metadata": {
    "execution": {
     "iopub.status.busy": "2023-11-07T13:55:45.923470Z",
     "iopub.status.idle": "2023-11-07T13:55:45.923825Z",
     "shell.execute_reply": "2023-11-07T13:55:45.923659Z",
     "shell.execute_reply.started": "2023-11-07T13:55:45.923643Z"
    },
    "id": "b70c8f36"
   },
   "outputs": [],
   "source": [
    "# This line would start up tensorboard for you\n",
    "%tensorboard --logdir logs --host localhost"
   ]
  },
  {
   "cell_type": "code",
   "execution_count": null,
   "id": "f603da03",
   "metadata": {
    "execution": {
     "iopub.status.busy": "2023-11-07T13:55:45.924892Z",
     "iopub.status.idle": "2023-11-07T13:55:45.925202Z",
     "shell.execute_reply": "2023-11-07T13:55:45.925061Z",
     "shell.execute_reply.started": "2023-11-07T13:55:45.925047Z"
    },
    "id": "f603da03"
   },
   "outputs": [],
   "source": [
    "# after the training finishes, we will also save Marvin in Keras style (HDF5), so we do not have to\n",
    "# train him again\n",
    "# every time we start our computer. Obviously, by changing the model_name, you can also save different\n",
    "# configurations of Marvin. The name has to be a string, like this: 'name.h5'\n",
    "model_name = 'pepsi_V03e_99.6'\n",
    "pepsi.save(model_name, save_format='h5')\n",
    "\n",
    "# It is best practice to indicate what configuration changes you did within the name, so you know\n",
    "# which model you need to load already from its name\n",
    "# Let's say instead of a learning rate of 0.001 you used 0.1, your naming could then look like:\n",
    "# 'marvin_lr01.h5'\n",
    "\n",
    "print('Success! You saved Marvin as: ', model_name)"
   ]
  },
  {
   "cell_type": "code",
   "execution_count": null,
   "id": "bfe73e76",
   "metadata": {
    "execution": {
     "iopub.status.busy": "2023-11-07T13:55:45.926253Z",
     "iopub.status.idle": "2023-11-07T13:55:45.926586Z",
     "shell.execute_reply": "2023-11-07T13:55:45.926431Z",
     "shell.execute_reply.started": "2023-11-07T13:55:45.926416Z"
    },
    "id": "bfe73e76"
   },
   "outputs": [],
   "source": [
    "# Plot for the intuitive approach\n",
    "\n",
    "numbers_to_display = 196\n",
    "num_cells = math.ceil(math.sqrt(numbers_to_display))\n",
    "plt.figure(figsize=(15, 15))\n",
    "\n",
    "for plot_index in range(numbers_to_display):\n",
    "    predicted_label = predictions[plot_index]\n",
    "    plt.xticks([])\n",
    "    plt.yticks([])\n",
    "    plt.grid(False)\n",
    "    color_map = 'Greens' if predicted_label == y_test[plot_index] else 'Reds'\n",
    "    plt.subplot(num_cells, num_cells, plot_index + 1)\n",
    "    plt.imshow(x_test_normalized[plot_index].reshape((28, 28)), cmap=color_map)\n",
    "    plt.xlabel(predicted_label)\n",
    "\n",
    "plt.subplots_adjust(hspace=1, wspace=0.5)\n",
    "plt.show()"
   ]
  },
  {
   "cell_type": "code",
   "execution_count": 14,
   "id": "237d39a6",
   "metadata": {
    "id": "237d39a6",
    "outputId": "039a38b5-6eb2-437e-fac5-b80e4cd2b446"
   },
   "outputs": [
    {
     "name": "stdout",
     "output_type": "stream",
     "text": [
      "313/313 [==============================] - 7s 20ms/step\n"
     ]
    }
   ],
   "source": [
    "# load a saved marvin configuration you want to evaluate\n",
    "model_name = 'model.23-0.9975.h5'\n",
    "pepsi_reloaded = tf.keras.models.load_model(model_name)\n",
    "pepsi = pepsi_reloaded\n",
    "# Let Marvin predict on the test set, so we have some data to evaluate his performance.\n",
    "predictions = pepsi_reloaded.predict([x_test])\n",
    "# predictions = pepsi.predict([x_test])\n",
    "\n",
    "# Remember that the prediction of Marvin is a probability distribution over all ten-digit classes\n",
    "# We want him to assign the digit class with the highest probability to the sample.\n",
    "predictions = np.argmax(predictions, axis=1)\n",
    "#pd.DataFrame(predictions)"
   ]
  },
  {
   "cell_type": "code",
   "execution_count": 12,
   "id": "ef451387",
   "metadata": {
    "id": "ef451387",
    "outputId": "eac04469-3476-49d9-9b9c-2e07af89b7e3"
   },
   "outputs": [
    {
     "name": "stderr",
     "output_type": "stream",
     "text": [
      "C:\\Users\\Lucas\\AppData\\Local\\Programs\\Python\\Python311\\Lib\\site-packages\\keras\\src\\backend.py:5729: UserWarning: \"`sparse_categorical_crossentropy` received `from_logits=True`, but the `output` argument was produced by a Softmax activation and thus does not represent logits. Was this intended?\n",
      "  output, from_logits = _get_logits(\n"
     ]
    },
    {
     "name": "stdout",
     "output_type": "stream",
     "text": [
      "313/313 [==============================] - 13s 40ms/step - loss: 0.0360 - accuracy: 0.9975\n",
      "Loss:  0.03599680960178375\n",
      "Accuracy:  0.9975000023841858\n"
     ]
    },
    {
     "data": {
      "image/png": "[encoded data removed]",
      "text/plain": [
       "<Figure size 900x700 with 2 Axes>"
      ]
     },
     "metadata": {},
     "output_type": "display_data"
    }
   ],
   "source": [
    "\n",
    "(test_loss, test_acc) = pepsi_reloaded.evaluate(x_test, y_test)\n",
    "print(\"Loss: \", test_loss)\n",
    "print(\"Accuracy: \", test_acc)\n",
    "\n",
    "confusion_matrix = tf.math.confusion_matrix(y_test, predictions)\n",
    "\n",
    "f, ax = plt.subplots(figsize=(9, 7))\n",
    "sn.heatmap(\n",
    "    confusion_matrix,\n",
    "    annot=True,\n",
    "    linewidths=.7,\n",
    "    fmt=\"d\",\n",
    "    square=True,\n",
    "    ax=ax,\n",
    "    cmap=\"viridis\",\n",
    ")\n",
    "plt.show()"
   ]
  }
 ],
 "metadata": {
  "colab": {
   "provenance": []
  },
  "kernelspec": {
   "display_name": "Python 3 (ipykernel)",
   "language": "python",
   "name": "python3"
  },
  "language_info": {
   "codemirror_mode": {
    "name": "ipython",
    "version": 3
   },
   "file_extension": ".py",
   "mimetype": "text/x-python",
   "name": "python",
   "nbconvert_exporter": "python",
   "pygments_lexer": "ipython3",
   "version": "3.11.6"
  }
 },
 "nbformat": 4,
 "nbformat_minor": 5
}
