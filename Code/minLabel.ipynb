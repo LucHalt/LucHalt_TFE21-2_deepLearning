{
 "cells": [
  {
   "cell_type": "code",
   "execution_count": null,
   "metadata": {},
   "outputs": [],
   "source": [
    "# minLabel.ipynb\n",
    "# by: Tim Lucas Halt (MatrNr. 6682645)"
   ]
  },
  {
   "cell_type": "markdown",
   "metadata": {},
   "source": [
    "# Vorbereitung\n",
    "Zunächst werden die notwendigen Bibliotheken installiert und importiert. Möglicherweise ist ein Neustart des Kernels erforderlich."
   ]
  },
  {
   "cell_type": "code",
   "execution_count": null,
   "metadata": {},
   "outputs": [],
   "source": [
    "%pip install tensorflow\n",
    "%pip install matplotlib\n",
    "%pip install scipy\n",
    "\n",
    "import numpy as np\n",
    "import matplotlib.pyplot as plt\n",
    "import tensorflow as tf\n",
    "from scipy.spatial import distance"
   ]
  },
  {
   "cell_type": "markdown",
   "metadata": {},
   "source": [
    "Nun wird der MNIST Datensatz geladen und für das Training vorbereitet."
   ]
  },
  {
   "cell_type": "code",
   "execution_count": null,
   "metadata": {},
   "outputs": [],
   "source": [
    "# Loading the MNIST dataset in one line\n",
    "(x_train, y_train), (x_test, y_test) = tf.keras.datasets.mnist.load_data()\n",
    "\n",
    "# Normalize and reshape\n",
    "x_train_normalized = x_train/255\n",
    "x_test_normalized = x_test/255\n",
    "x_train= x_train_normalized.reshape(-1, 28, 28, 1)\n",
    "x_test = x_test_normalized.reshape(-1, 28, 28, 1)\n",
    "\n",
    "# Printing the shape\n",
    "print('x_train:', x_train.shape)\n",
    "print('y_train:', y_train.shape)\n",
    "print('x_test:', x_test.shape)\n",
    "print('y_test:', y_test.shape)"
   ]
  },
  {
   "cell_type": "markdown",
   "metadata": {},
   "source": [
    "# Ähnlichste Label\n",
    "Pro Ziffer wird das Label ermittelt, welches mit allen adneren die größte Kosinusähnlichkeit besitzt. Dieser Schritt dauert lange, weshalb die Ergebnisse in der übernächsten Code-Zeile vermerkt sind."
   ]
  },
  {
   "cell_type": "code",
   "execution_count": null,
   "metadata": {
    "id": "_0eMI4k9bCZF",
    "outputId": "dffad165-ad63-48e0-b822-029da63aaf40"
   },
   "outputs": [],
   "source": [
    "x_train_best = []\n",
    "y_train_best = []\n",
    "similar_indices = []  # Array für die Indizes der ähnlichsten Bilder\n",
    "\n",
    "# Berechnung der ähnlichsten Ziffern für jede Klasse von 0 bis 9\n",
    "for digit in range(10):\n",
    "    \n",
    "    # Filtern der Ziffern nach ihrer Klasse\n",
    "    class_images = x_train[y_train == digit]\n",
    "\n",
    "    # Berechnung der durchschnittlichen Cosinus-Ähnlichkeit für jede Ziffer zu anderen Ziffern derselben Klasse\n",
    "    similarities = []\n",
    "    for i, image in enumerate(class_images):\n",
    "        avg_similarity = 0\n",
    "        for other_image in class_images:\n",
    "            if not np.array_equal(image, other_image):\n",
    "                # Umwandlung von 28x28 Bildern in Vektoren für Cosinus-Ähnlichkeit\n",
    "                image_vector = image.flatten()\n",
    "                other_image_vector = other_image.flatten()\n",
    "                # Berechnung der Cosinus-Ähnlichkeit\n",
    "                cosine_similarity = 1 - distance.cosine(image_vector, other_image_vector)\n",
    "                avg_similarity += cosine_similarity\n",
    "        avg_similarity /= len(class_images) - 1  # Durchschnittliche Ähnlichkeit zu allen anderen Ziffern der Klasse außer sich selbst\n",
    "        similarities.append((i, avg_similarity))\n",
    "\n",
    "    # Sortieren nach der durchschnittlichen Ähnlichkeit und Auswahl der ähnlichsten Ziffer\n",
    "    similarities.sort(key=lambda x: x[1], reverse=True)\n",
    "    most_similar_index = similarities[0][0]\n",
    "\n",
    "    most_similar_index_train_images = np.where((y_train == digit))[0][most_similar_index]\n",
    "    most_similar_digit = x_train[most_similar_index_train_images]\n",
    "\n",
    "    print('Index:', most_similar_index_train_images)\n",
    "        \n",
    "    # Hinzufügen des ähnlichsten Bildes, seines Labels und seines Index im train_images Array in den Arrays\n",
    "    x_train_best.append(most_similar_digit)\n",
    "    y_train_best.append(digit)\n",
    "    similar_indices.append(most_similar_index_train_images)\n",
    "\n",
    "# Umwandeln der Listen in numpy arrays\n",
    "x_train_best = np.array(x_train_best)\n",
    "y_train_best = np.array(y_train_best)\n",
    "similar_indices = np.array(similar_indices)"
   ]
  },
  {
   "cell_type": "markdown",
   "metadata": {},
   "source": [
    "Es folgt die Darstallung der repräsentativen Label."
   ]
  },
  {
   "cell_type": "code",
   "execution_count": null,
   "metadata": {
    "scrolled": true
   },
   "outputs": [],
   "source": [
    "similar_indices = [47647, 17775, 42830, 13519, 1273, 26066, 21901, 10297, 46338, 39293]\n",
    "\n",
    "x_train_best = []\n",
    "y_train_best = []\n",
    "\n",
    "for i in range(10):\n",
    "                \n",
    "    plt.subplot(1, 10, i+1)\n",
    "    plt.xticks([])\n",
    "    plt.yticks([])\n",
    "    plt.grid(False)\n",
    "    plt.imshow(x_train[similar_indices[i]], cmap=plt.cm.binary)\n",
    "    plt.xlabel(y_train[similar_indices[i]])\n",
    "\n",
    "    x_train_best.append(x_train[similar_indices[i]])\n",
    "    y_train_best.append(y_train[similar_indices[i]])\n",
    "    \n",
    "# Umwandeln der Listen in numpy arrays\n",
    "x_train_b = np.array(x_train_best)\n",
    "y_train_b = np.array(y_train_best)\n",
    "\n",
    "plt.show()\n"
   ]
  }
 ],
 "metadata": {
  "accelerator": "GPU",
  "colab": {
   "gpuType": "T4",
   "provenance": []
  },
  "kaggle": {
   "accelerator": "tpu1vmV38",
   "dataSources": [],
   "dockerImageVersionId": 30588,
   "isGpuEnabled": false,
   "isInternetEnabled": true,
   "language": "python",
   "sourceType": "notebook"
  },
  "kernelspec": {
   "display_name": "Python 3 (ipykernel)",
   "language": "python",
   "name": "python3"
  },
  "language_info": {
   "codemirror_mode": {
    "name": "ipython",
    "version": 3
   },
   "file_extension": ".py",
   "mimetype": "text/x-python",
   "name": "python",
   "nbconvert_exporter": "python",
   "pygments_lexer": "ipython3",
   "version": "3.11.6"
  }
 },
 "nbformat": 4,
 "nbformat_minor": 4
}
