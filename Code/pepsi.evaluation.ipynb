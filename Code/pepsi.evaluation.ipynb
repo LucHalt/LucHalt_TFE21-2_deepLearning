{
 "cells": [
  {
   "cell_type": "code",
   "execution_count": null,
   "metadata": {},
   "outputs": [],
   "source": [
    "%pip install tensorflow"
   ]
  },
  {
   "cell_type": "code",
   "execution_count": null,
   "metadata": {
    "colab": {
     "base_uri": "https://localhost:8080/"
    },
    "execution": {
     "iopub.execute_input": "2023-12-19T06:22:20.272317Z",
     "iopub.status.busy": "2023-12-19T06:22:20.272027Z",
     "iopub.status.idle": "2023-12-19T06:22:34.981316Z",
     "shell.execute_reply": "2023-12-19T06:22:34.980199Z",
     "shell.execute_reply.started": "2023-12-19T06:22:20.272280Z"
    },
    "id": "_0eMI4k9bCZF",
    "outputId": "9a8f5276-9053-49c0-d91a-8f70cc389043"
   },
   "outputs": [],
   "source": [
    "from IPython.display import display, clear_output\n",
    "import numpy as np\n",
    "import matplotlib.pyplot as plt\n",
    "import seaborn as sn\n",
    "import pandas as pd\n",
    "\n",
    "import tensorflow as tf\n",
    "print('Tensorflow version:', tf.__version__, '\\n')\n",
    "\n",
    "# Loading the MNIST dataset in one line\n",
    "(x_train, y_train), (x_test, y_test) = tf.keras.datasets.mnist.load_data()\n",
    "\n",
    "# Normalize and reshape\n",
    "x_train_normalized = x_train/255\n",
    "x_test_normalized = x_test/255\n",
    "x_train= x_train_normalized.reshape(-1, 28, 28, 1)\n",
    "x_test = x_test_normalized.reshape(-1, 28, 28, 1)\n",
    "\n",
    "# Printing the shape\n",
    "print('x_train:', x_train.shape)\n",
    "print('y_train:', y_train.shape)\n",
    "print('x_test:', x_test.shape)\n",
    "print('y_test:', y_test.shape)"
   ]
  },
  {
   "cell_type": "code",
   "execution_count": null,
   "metadata": {
    "colab": {
     "base_uri": "https://localhost:8080/"
    },
    "execution": {
     "iopub.execute_input": "2023-12-19T06:23:02.037830Z",
     "iopub.status.busy": "2023-12-19T06:23:02.037098Z"
    },
    "id": "X8d40pU-bCZL",
    "outputId": "e8225d44-f511-4df4-95d8-b038729534b6"
   },
   "outputs": [],
   "source": [
    "nets = 20\n",
    "model = [0] * nets\n",
    "\n",
    "for j in range(nets):\n",
    "\n",
    "    model[j] = tf.keras.models.Sequential([\n",
    "    tf.keras.layers.InputLayer(input_shape=(28,28,1)),\n",
    "\n",
    "    tf.keras.layers.Conv2D(filters=28, kernel_size=3, padding='same', activation='relu'),\n",
    "    tf.keras.layers.BatchNormalization(),\n",
    "    tf.keras.layers.Conv2D(filters=28, kernel_size=3, padding='same', activation='relu'),\n",
    "    tf.keras.layers.BatchNormalization(),\n",
    "    tf.keras.layers.Conv2D(filters=28, kernel_size=5, strides=2, padding='same', activation='relu', use_bias=False),\n",
    "    tf.keras.layers.BatchNormalization(),\n",
    "    tf.keras.layers.Dropout(0.4),\n",
    "    tf.keras.layers.GaussianNoise(0.75),\n",
    "\n",
    "    tf.keras.layers.Conv2D(filters=56, kernel_size=3, padding='same', activation='relu'),\n",
    "    tf.keras.layers.BatchNormalization(),\n",
    "    tf.keras.layers.Conv2D(filters=56, kernel_size=3, padding='same', activation='relu'),\n",
    "    tf.keras.layers.BatchNormalization(),\n",
    "    tf.keras.layers.Conv2D(filters=56, kernel_size=5, strides=2, padding='same', activation='relu', use_bias=False),\n",
    "    tf.keras.layers.BatchNormalization(),\n",
    "    tf.keras.layers.Dropout(0.4),\n",
    "    tf.keras.layers.GaussianNoise(0.75),\n",
    "\n",
    "    tf.keras.layers.Flatten(),\n",
    "\n",
    "    tf.keras.layers.Dense(82, kernel_regularizer = tf.keras.regularizers.l2(0.07), activation = 'relu'),\n",
    "    tf.keras.layers.BatchNormalization(),\n",
    "\n",
    "    tf.keras.layers.Dropout(0.4),\n",
    "    tf.keras.layers.GaussianNoise(0.75),\n",
    "\n",
    "    tf.keras.layers.Dense(54, kernel_regularizer = tf.keras.regularizers.l2(0.07), activation = 'sigmoid'),\n",
    "    tf.keras.layers.BatchNormalization(),\n",
    "\n",
    "    tf.keras.layers.Dropout(0.4),\n",
    "    tf.keras.layers.GaussianNoise(0.75),\n",
    "\n",
    "    tf.keras.layers.Dense(10, activation='softmax', use_bias=False)\n",
    "    ])\n",
    "\n",
    "    # Define your loss\n",
    "    loss_fn = tf.keras.losses.SparseCategoricalCrossentropy(from_logits=True)\n",
    "    # print(-tf.math.log(1/10))\n",
    "    sampleID = 100\n",
    "    loss_fn(y_train[:1], model[j](x_train[sampleID-1:sampleID]).numpy()).numpy()\n",
    "\n",
    "    model[j].compile(optimizer=tf.keras.optimizers.legacy.Adam(learning_rate=0.001),\n",
    "                    loss= loss_fn,\n",
    "                    metrics=['accuracy'])\n",
    "\n",
    "vlr = tf.keras.callbacks.LearningRateScheduler(lambda x: 1e-3 * 0.975 ** x)\n",
    "\n",
    "er = tf.keras.callbacks.EarlyStopping(\n",
    "        monitor=\"val_accuracy\",\n",
    "        patience=10,\n",
    "        restore_best_weights=True\n",
    ")"
   ]
  },
  {
   "cell_type": "code",
   "execution_count": null,
   "metadata": {},
   "outputs": [],
   "source": [
    "accuracies = []\n",
    "\n",
    "for j in range(nets):\n",
    "    \n",
    "    datagen = tf.keras.preprocessing.image.ImageDataGenerator(\n",
    "                rotation_range=15,\n",
    "                zoom_range = 0.15,\n",
    "                shear_range=0.1,\n",
    "                width_shift_range=0.1,\n",
    "                height_shift_range=0.1,\n",
    "                rescale=0,\n",
    "                fill_mode = 'nearest',\n",
    "                horizontal_flip=False,\n",
    "                vertical_flip=False)\n",
    "    datagen.fit(x_train)\n",
    "\n",
    "    history = model[j].fit(\n",
    "        datagen.flow(x_train, y_train, batch_size = 32),\n",
    "        epochs=500,\n",
    "        shuffle = True,\n",
    "        validation_data=(x_test, y_test),\n",
    "        callbacks=[vlr, er],\n",
    "        verbose=1\n",
    "    )\n",
    "\n",
    "    (test_loss, test_acc) = model[j].evaluate(x_test, y_test)\n",
    "    print(\"Loss: \", test_loss)\n",
    "    print(\"Accuracy: \", test_acc)\n",
    "    accuracies.append(test_acc)\n",
    "    model_name = f'tmp/model.{j:d}.{test_acc:.4f}.h5'\n",
    "    model[j].save(model_name, save_format='h5')\n",
    "\n",
    "# Plotte die Genauigkeiten als Histogramm\n",
    "plt.figure(figsize=(8, 6))\n",
    "plt.hist(accuracies, bins=10, edgecolor='black')\n",
    "plt.xlabel('Accuracy')\n",
    "plt.ylabel('Frequency')\n",
    "plt.title('Histogram of Model Accuracies')\n",
    "plt.grid(True)\n",
    "plt.show()\n",
    "\n",
    "mean_accuracy = np.mean(accuracies)\n",
    "std_accuracy = np.std(accuracies)\n",
    "\n",
    "print(f'Mean Accuracy: {mean_accuracy:.4f}')\n",
    "print(f'Standard Deviation of Accuracy: {std_accuracy:.4f}')"
   ]
  },
  {
   "cell_type": "markdown",
   "metadata": {},
   "source": [
    "Weil das Training von 20 Model dieses großen Netzes s e h r lange dauert, sind nachfolgend Werte der Genauigkeit von 23 Durchläufen aufgelistet..."
   ]
  },
  {
   "cell_type": "code",
   "execution_count": null,
   "metadata": {
    "execution": {
     "iopub.execute_input": "2023-12-15T18:56:01.191031Z",
     "iopub.status.busy": "2023-12-15T18:56:01.190261Z",
     "iopub.status.idle": "2023-12-15T18:56:01.605920Z",
     "shell.execute_reply": "2023-12-15T18:56:01.604709Z",
     "shell.execute_reply.started": "2023-12-15T18:56:01.190995Z"
    }
   },
   "outputs": [],
   "source": [
    "accuracies = [0.9950000047683716,\n",
    "              0.9973999857902527,\n",
    "             0.9966999888420105,\n",
    "             0.9962000250816345,\n",
    "             0.9961000084877014,\n",
    "             0.996999979019165,\n",
    "             0.9965000152587891,\n",
    "             0.9969000220298767,\n",
    "             0.9959999918937683,\n",
    "             0.9969000220298767,\n",
    "             0.9962999820709229,\n",
    "             0.9952999949455261,\n",
    "             0.9965000152587891,\n",
    "             0.9961000084877014,\n",
    "             0.9958999752998352,\n",
    "             0.9961000084877014,\n",
    "             0.9966999888420105,\n",
    "             0.996399998664856,\n",
    "             0.9966999888420105,\n",
    "             0.9952999949455261,\n",
    "             0.9968000054359436,\n",
    "             0.9965999722480774,\n",
    "             0.9952999949455261]\n",
    "\n",
    "# Plotte die Genauigkeiten als Histogramm\n",
    "plt.figure(figsize=(8, 6))\n",
    "plt.hist(accuracies, bins=10, edgecolor='black')\n",
    "plt.xlabel('Accuracy')\n",
    "plt.ylabel('Frequency')\n",
    "plt.title('Histogram of Model Accuracies')\n",
    "plt.grid(True)\n",
    "plt.show()\n",
    "\n",
    "mean_accuracy = np.mean(accuracies)\n",
    "std_accuracy = np.std(accuracies)\n",
    "\n",
    "print(f'Mean Accuracy: {mean_accuracy:.4f}')\n",
    "print(f'Standard Deviation of Accuracy: {std_accuracy:.4f}')"
   ]
  }
 ],
 "metadata": {
  "accelerator": "GPU",
  "colab": {
   "provenance": []
  },
  "kaggle": {
   "accelerator": "nvidiaTeslaT4",
   "dataSources": [],
   "dockerImageVersionId": 30627,
   "isGpuEnabled": true,
   "isInternetEnabled": true,
   "language": "python",
   "sourceType": "notebook"
  },
  "kernelspec": {
   "display_name": "Python 3 (ipykernel)",
   "language": "python",
   "name": "python3"
  },
  "language_info": {
   "codemirror_mode": {
    "name": "ipython",
    "version": 3
   },
   "file_extension": ".py",
   "mimetype": "text/x-python",
   "name": "python",
   "nbconvert_exporter": "python",
   "pygments_lexer": "ipython3",
   "version": "3.11.7"
  }
 },
 "nbformat": 4,
 "nbformat_minor": 4
}
