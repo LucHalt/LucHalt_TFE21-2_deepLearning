{
 "cells": [
  {
   "cell_type": "code",
   "execution_count": null,
   "metadata": {},
   "outputs": [],
   "source": [
    "# pepsi.evaluation.ipynb\n",
    "# by: Tim Lucas Halt (MatrNr. 6682645)"
   ]
  },
  {
   "cell_type": "markdown",
   "metadata": {},
   "source": [
    "# Vorbereitung\n",
    "Zunächst werden die notwendigen Bibliotheken installiert und importiert. Möglicherweise ist ein Neustart des Kernels erforderlich."
   ]
  },
  {
   "cell_type": "code",
   "execution_count": null,
   "metadata": {},
   "outputs": [],
   "source": [
    "%pip install tensorflow\n",
    "%pip install matplotlib\n",
    "%pip install scipy\n",
    "%pip install seaborn\n",
    "\n",
    "import numpy as np\n",
    "import matplotlib.pyplot as plt\n",
    "import scipy\n",
    "import tensorflow as tf\n",
    "import seaborn as sn"
   ]
  },
  {
   "cell_type": "markdown",
   "metadata": {},
   "source": [
    "Nun wird der MNIST Datensatz geladen und für das Training vorbereitet."
   ]
  },
  {
   "cell_type": "code",
   "execution_count": null,
   "metadata": {
    "colab": {
     "base_uri": "https://localhost:8080/"
    },
    "execution": {
     "iopub.execute_input": "2023-12-19T06:22:20.272317Z",
     "iopub.status.busy": "2023-12-19T06:22:20.272027Z",
     "iopub.status.idle": "2023-12-19T06:22:34.981316Z",
     "shell.execute_reply": "2023-12-19T06:22:34.980199Z",
     "shell.execute_reply.started": "2023-12-19T06:22:20.272280Z"
    },
    "id": "_0eMI4k9bCZF",
    "outputId": "9a8f5276-9053-49c0-d91a-8f70cc389043"
   },
   "outputs": [],
   "source": [
    "# Loading the MNIST dataset in one line\n",
    "(x_train, y_train), (x_test, y_test) = tf.keras.datasets.mnist.load_data()\n",
    "\n",
    "# Normalize and reshape\n",
    "x_train_normalized = x_train/255\n",
    "x_test_normalized = x_test/255\n",
    "x_train= x_train_normalized.reshape(-1, 28, 28, 1)\n",
    "x_test = x_test_normalized.reshape(-1, 28, 28, 1)\n",
    "\n",
    "# Printing the shape\n",
    "print('x_train:', x_train.shape)\n",
    "print('y_train:', y_train.shape)\n",
    "print('x_test:', x_test.shape)\n",
    "print('y_test:', y_test.shape)"
   ]
  },
  {
   "cell_type": "markdown",
   "metadata": {},
   "source": [
    "# Definition und Training des Netzes\n",
    "Um eine aussagekräftige Evaluation zu erhalten werden 20 Modelle erstellt, trainiert und die Ergebnisse ausgewertet. "
   ]
  },
  {
   "cell_type": "code",
   "execution_count": null,
   "metadata": {
    "colab": {
     "base_uri": "https://localhost:8080/"
    },
    "execution": {
     "iopub.execute_input": "2023-12-19T06:23:02.037830Z",
     "iopub.status.busy": "2023-12-19T06:23:02.037098Z"
    },
    "id": "X8d40pU-bCZL",
    "outputId": "e8225d44-f511-4df4-95d8-b038729534b6"
   },
   "outputs": [],
   "source": [
    "nets = 20\n",
    "model = [0] * nets\n",
    "\n",
    "for j in range(nets):\n",
    "\n",
    "    model[j] = tf.keras.models.Sequential([\n",
    "    tf.keras.layers.InputLayer(input_shape=(28,28,1)),\n",
    "\n",
    "    tf.keras.layers.Conv2D(filters=28, kernel_size=3, padding='same', activation='relu'),\n",
    "    tf.keras.layers.BatchNormalization(),\n",
    "    tf.keras.layers.Conv2D(filters=28, kernel_size=3, padding='same', activation='relu'),\n",
    "    tf.keras.layers.BatchNormalization(),\n",
    "    tf.keras.layers.Conv2D(filters=28, kernel_size=5, strides=2, padding='same', activation='relu', use_bias=False),\n",
    "    tf.keras.layers.BatchNormalization(),\n",
    "    tf.keras.layers.Dropout(0.4),\n",
    "    tf.keras.layers.GaussianNoise(0.75),\n",
    "\n",
    "    tf.keras.layers.Conv2D(filters=56, kernel_size=3, padding='same', activation='relu'),\n",
    "    tf.keras.layers.BatchNormalization(),\n",
    "    tf.keras.layers.Conv2D(filters=56, kernel_size=3, padding='same', activation='relu'),\n",
    "    tf.keras.layers.BatchNormalization(),\n",
    "    tf.keras.layers.Conv2D(filters=56, kernel_size=5, strides=2, padding='same', activation='relu', use_bias=False),\n",
    "    tf.keras.layers.BatchNormalization(),\n",
    "    tf.keras.layers.Dropout(0.4),\n",
    "    tf.keras.layers.GaussianNoise(0.75),\n",
    "\n",
    "    tf.keras.layers.Flatten(),\n",
    "\n",
    "    tf.keras.layers.Dense(82, kernel_regularizer = tf.keras.regularizers.l2(0.07), activation = 'relu'),\n",
    "    tf.keras.layers.BatchNormalization(),\n",
    "\n",
    "    tf.keras.layers.Dropout(0.4),\n",
    "    tf.keras.layers.GaussianNoise(0.75),\n",
    "\n",
    "    tf.keras.layers.Dense(54, kernel_regularizer = tf.keras.regularizers.l2(0.07), activation = 'sigmoid'),\n",
    "    tf.keras.layers.BatchNormalization(),\n",
    "\n",
    "    tf.keras.layers.Dropout(0.4),\n",
    "    tf.keras.layers.GaussianNoise(0.75),\n",
    "\n",
    "    tf.keras.layers.Dense(10, activation='softmax', use_bias=False)\n",
    "    ])"
   ]
  },
  {
   "cell_type": "markdown",
   "metadata": {},
   "source": [
    "Vor dem Trainingsbeginn werden die Hyperparameter für das Training definiert. Dies beinhaltet die Loss-Funktion, den Optimizer, die Callbacks und die Daten-Augmentierung."
   ]
  },
  {
   "cell_type": "code",
   "execution_count": null,
   "metadata": {},
   "outputs": [],
   "source": [
    "# Define your loss\n",
    "loss_fn = tf.keras.losses.SparseCategoricalCrossentropy(from_logits=True)\n",
    "\n",
    "sampleID = 100\n",
    "loss_fn(y_train[:1], model[j](x_train[sampleID-1:sampleID]).numpy()).numpy()\n",
    "\n",
    "model[j].compile(optimizer=tf.keras.optimizers.legacy.Adam(learning_rate=0.001),\n",
    "                loss= loss_fn,\n",
    "                metrics=['accuracy'])\n",
    "\n",
    "\n",
    "vlr = tf.keras.callbacks.LearningRateScheduler(lambda x: 1e-3 * 0.975 ** x)\n",
    "\n",
    "er = tf.keras.callbacks.EarlyStopping(\n",
    "        monitor=\"val_accuracy\",\n",
    "        patience=10,\n",
    "        restore_best_weights=True\n",
    ")\n",
    "\n",
    "datagen = tf.keras.preprocessing.image.ImageDataGenerator(\n",
    "                rotation_range=15,\n",
    "                zoom_range = 0.15,\n",
    "                shear_range=0.1,\n",
    "                width_shift_range=0.1,\n",
    "                height_shift_range=0.1,\n",
    "                rescale=0,\n",
    "                fill_mode = 'nearest',\n",
    "                horizontal_flip=False,\n",
    "                vertical_flip=False)\n",
    "datagen.fit(x_train)"
   ]
  },
  {
   "cell_type": "markdown",
   "metadata": {},
   "source": [
    "Ist das erledigt, kann das Training beginnen. Dabei werden für jeden Durchlauf die Ergebnisse des Tests gespeichert. Das Training dauert wegen der vielen großen Netzte sehr l a a a a a n g e... (Es lohnt sich diesen Block zu **überspringen** und auf die vorgefertigten Ergebnisse im nächsten Block zurückzugreifen.)"
   ]
  },
  {
   "cell_type": "code",
   "execution_count": null,
   "metadata": {},
   "outputs": [],
   "source": [
    "accuracies = []\n",
    "\n",
    "for j in range(nets):\n",
    "\n",
    "    history = model[j].fit(\n",
    "        datagen.flow(x_train, y_train, batch_size = 32),\n",
    "        epochs=500,\n",
    "        shuffle = True,\n",
    "        validation_data=(x_test, y_test),\n",
    "        callbacks=[vlr, er],\n",
    "        verbose=1\n",
    "    )\n",
    "\n",
    "    (test_loss, test_acc) = model[j].evaluate(x_test, y_test)\n",
    "    print(\"Loss: \", test_loss)\n",
    "    print(\"Accuracy: \", test_acc)\n",
    "    accuracies.append(test_acc)"
   ]
  },
  {
   "cell_type": "markdown",
   "metadata": {},
   "source": [
    "# Auswertung\n",
    "Für die Dokumentation wurde ohnehin eine Evaluation mit XY Netzen durchgeführt. Diese Ergebnisse können hier geladen und das lange Training quasi übersprungen werden. "
   ]
  },
  {
   "cell_type": "code",
   "execution_count": null,
   "metadata": {
    "execution": {
     "iopub.execute_input": "2023-12-15T18:56:01.191031Z",
     "iopub.status.busy": "2023-12-15T18:56:01.190261Z",
     "iopub.status.idle": "2023-12-15T18:56:01.605920Z",
     "shell.execute_reply": "2023-12-15T18:56:01.604709Z",
     "shell.execute_reply.started": "2023-12-15T18:56:01.190995Z"
    }
   },
   "outputs": [],
   "source": [
    "accuracies = [0.9950, 0.9974, 0.9967, 0.9962, 0.9961, 0.9970, 0.9965, 0.9969, 0.9960, 0.9969,\n",
    "             0.9963, 0.9953, 0.9965, 0.9961, 0.9959, 0.9961, 0.9967, 0.9964, 0.9967, 0.9953,\n",
    "             0.9968, 0.9966, 0.9953, 0.9967, 0.9956, 0.9968, 0.9959, 0.9970, 0.9957, 0.9969,\n",
    "             0.9955]"
   ]
  },
  {
   "cell_type": "markdown",
   "metadata": {},
   "source": [
    "\"Ein Bild sagt mehr als tausend Zahlen\" - Plotten wir uns die Ergebnisse in einem Histogramm und errechnen die durchschnittliche Genauigkeit, sowie die Standartabweichung."
   ]
  },
  {
   "cell_type": "code",
   "execution_count": null,
   "metadata": {},
   "outputs": [],
   "source": [
    "# plot as histogramm\n",
    "plt.figure(figsize=(8, 6))\n",
    "plt.hist(accuracies, bins=10, edgecolor='black')\n",
    "plt.xlabel('Accuracy')\n",
    "plt.ylabel('Frequency')\n",
    "plt.title('Histogram of Model Accuracies')\n",
    "plt.grid(True)\n",
    "plt.show()\n",
    "\n",
    "mean_accuracy = np.mean(accuracies)\n",
    "std_accuracy = np.std(accuracies)\n",
    "\n",
    "print(f'Mean Accuracy: {mean_accuracy:.4f}')\n",
    "print(f'Standard Deviation of Accuracy: {std_accuracy:.4f}')"
   ]
  },
  {
   "cell_type": "markdown",
   "metadata": {},
   "source": [
    "# Das Benchmark-Modell\n",
    "Für den Benchmark wurde das Training des obigen Netzes mit einem späteren EarlyStop durchgeführt. Das beste Modell kann im folgenden geladen und ausgewertet werden."
   ]
  },
  {
   "cell_type": "code",
   "execution_count": null,
   "metadata": {},
   "outputs": [],
   "source": [
    "# load a saved marvin configuration you want to evaluate\n",
    "model_name = '../Code/model/pepsi.0.9977_benchmark.h5' \n",
    "pepsi_reloaded = tf.keras.models.load_model(model_name)\n",
    "\n",
    "(test_loss, test_acc) = pepsi_reloaded.evaluate(x_test, y_test)\n",
    "print(\"Loss: \", test_loss)\n",
    "print(\"Accuracy: \", test_acc)\n",
    "\n",
    "predictions = pepsi_reloaded.predict([x_test])\n",
    "predictions = np.argmax(predictions, axis=1)\n",
    "\n",
    "confusion_matrix = tf.math.confusion_matrix(y_test, predictions)\n",
    "\n",
    "f, ax = plt.subplots(figsize=(9, 7))\n",
    "sn.heatmap(\n",
    "    confusion_matrix,\n",
    "    annot=True,\n",
    "    linewidths=.7,\n",
    "    fmt=\"d\",\n",
    "    square=True,\n",
    "    ax=ax,\n",
    "    cmap=\"viridis\",\n",
    ")\n",
    "plt.show()"
   ]
  }
 ],
 "metadata": {
  "accelerator": "GPU",
  "colab": {
   "provenance": []
  },
  "kaggle": {
   "accelerator": "nvidiaTeslaT4",
   "dataSources": [],
   "dockerImageVersionId": 30627,
   "isGpuEnabled": true,
   "isInternetEnabled": true,
   "language": "python",
   "sourceType": "notebook"
  },
  "kernelspec": {
   "display_name": "Python 3 (ipykernel)",
   "language": "python",
   "name": "python3"
  },
  "language_info": {
   "codemirror_mode": {
    "name": "ipython",
    "version": 3
   },
   "file_extension": ".py",
   "mimetype": "text/x-python",
   "name": "python",
   "nbconvert_exporter": "python",
   "pygments_lexer": "ipython3",
   "version": "3.11.7"
  }
 },
 "nbformat": 4,
 "nbformat_minor": 4
}
